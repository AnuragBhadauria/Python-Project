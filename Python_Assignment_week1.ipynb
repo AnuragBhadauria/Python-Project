{
 "cells": [
  {
   "cell_type": "code",
   "execution_count": 1,
   "id": "07d348d9",
   "metadata": {},
   "outputs": [
    {
     "name": "stdout",
     "output_type": "stream",
     "text": [
      "['PWskills', [1, 2, 3], 10.23, (1, 2, 3)]\n"
     ]
    }
   ],
   "source": [
    "l=[\"PWskills\",[1, 2, 3],10.23,(1, 2, 3)]\n",
    "print(l)"
   ]
  },
  {
   "cell_type": "markdown",
   "id": "d4f7b9f4",
   "metadata": {},
   "source": [
    "Given are some following variables containing data:\n",
    "\n",
    "(i) var1 = ‘ ‘\n",
    "\n",
    "(ii) var2 = ‘[ DS , ML , Python]’\n",
    "\n",
    "(iii) var3 = [ ‘DS’ , ’ML’ , ‘Python’ ]\n",
    "\n",
    "(iv) var4 = 1.\n",
    "\n",
    "\n",
    "What will be the data type of the above given variable.\n",
    "\n"
   ]
  },
  {
   "cell_type": "code",
   "execution_count": 2,
   "id": "dd54a370",
   "metadata": {},
   "outputs": [
    {
     "data": {
      "text/plain": [
       "str"
      ]
     },
     "execution_count": 2,
     "metadata": {},
     "output_type": "execute_result"
    }
   ],
   "source": [
    "var1 =' '\n",
    "type(var1 )"
   ]
  },
  {
   "cell_type": "code",
   "execution_count": 3,
   "id": "5571f76c",
   "metadata": {},
   "outputs": [
    {
     "data": {
      "text/plain": [
       "str"
      ]
     },
     "execution_count": 3,
     "metadata": {},
     "output_type": "execute_result"
    }
   ],
   "source": [
    "var2 = '[ DS , ML , Python]'\n",
    "type(var2)"
   ]
  },
  {
   "cell_type": "code",
   "execution_count": 4,
   "id": "540279d9",
   "metadata": {},
   "outputs": [
    {
     "data": {
      "text/plain": [
       "list"
      ]
     },
     "execution_count": 4,
     "metadata": {},
     "output_type": "execute_result"
    }
   ],
   "source": [
    "var3 = [ 'DS' , 'ML' , 'Python' ]\n",
    "type(var3)"
   ]
  },
  {
   "cell_type": "code",
   "execution_count": 5,
   "id": "b832e0ad",
   "metadata": {},
   "outputs": [
    {
     "data": {
      "text/plain": [
       "int"
      ]
     },
     "execution_count": 5,
     "metadata": {},
     "output_type": "execute_result"
    }
   ],
   "source": [
    "var4 = 1\n",
    "type(var4)"
   ]
  },
  {
   "cell_type": "markdown",
   "id": "1d82e658",
   "metadata": {},
   "source": [
    "Explain the use of the following operators using an example:\n",
    "\n",
    "(i) /\n",
    "\n",
    "(ii) %\n",
    "(iii) //\n",
    "\n",
    "(iv) **\n"
   ]
  },
  {
   "cell_type": "code",
   "execution_count": 6,
   "id": "82ef4132",
   "metadata": {},
   "outputs": [],
   "source": [
    "a=10\n",
    "b=5"
   ]
  },
  {
   "cell_type": "code",
   "execution_count": 15,
   "id": "b6cd83be",
   "metadata": {},
   "outputs": [
    {
     "name": "stdout",
     "output_type": "stream",
     "text": [
      "0.0\n"
     ]
    },
    {
     "data": {
      "text/plain": [
       "'The / operator is used for division. It performs division and \\nreturns the quotient e.g. 10/5 quotient will be 2'"
      ]
     },
     "execution_count": 15,
     "metadata": {},
     "output_type": "execute_result"
    }
   ],
   "source": [
    "c=a/b\n",
    "print(c)\n",
    "\"\"\"The / operator is used for division. It performs division and \n",
    "returns the quotient e.g. 10/5 quotient will be 2\"\"\""
   ]
  },
  {
   "cell_type": "code",
   "execution_count": 8,
   "id": "32473d58",
   "metadata": {},
   "outputs": [
    {
     "name": "stdout",
     "output_type": "stream",
     "text": [
      "0\n"
     ]
    },
    {
     "data": {
      "text/plain": [
       "'The % operator is used for mod. It performs division and \\nreturns the remainder e.g. 10%5 remainder will be 0 as it completely divisble'"
      ]
     },
     "execution_count": 8,
     "metadata": {},
     "output_type": "execute_result"
    }
   ],
   "source": [
    "c=a%b\n",
    "print(c)\n",
    "\"\"\"The % operator is used for mod. It performs division and \n",
    "returns the remainder e.g. 10%5 remainder will be 0 as it completely divisble\"\"\""
   ]
  },
  {
   "cell_type": "code",
   "execution_count": 9,
   "id": "dfa5ed71",
   "metadata": {},
   "outputs": [
    {
     "name": "stdout",
     "output_type": "stream",
     "text": [
      "2\n"
     ]
    },
    {
     "data": {
      "text/plain": [
       "'The // operator is used for floor division. It performs division and \\nreturns the largest whole number that is less than or equal to the quotient e.g 10//5=2'"
      ]
     },
     "execution_count": 9,
     "metadata": {},
     "output_type": "execute_result"
    }
   ],
   "source": [
    "c=a//b\n",
    "print(c)\n",
    "\"\"\"The // operator is used for floor division. It performs division and \n",
    "returns the largest whole number that is less than or equal to the quotient e.g 10//5=2\"\"\""
   ]
  },
  {
   "cell_type": "code",
   "execution_count": 10,
   "id": "12dafbe7",
   "metadata": {},
   "outputs": [
    {
     "name": "stdout",
     "output_type": "stream",
     "text": [
      "25\n"
     ]
    },
    {
     "data": {
      "text/plain": [
       "'The ** operator is used for exponentiation. It raises the first operand to the power of the second operand e.g 5^2=25'"
      ]
     },
     "execution_count": 10,
     "metadata": {},
     "output_type": "execute_result"
    }
   ],
   "source": [
    "c=5**2\n",
    "print(c)\n",
    "\"\"\"The ** operator is used for exponentiation. It raises the first operand to the power of the second operand e.g 5^2=25\"\"\""
   ]
  },
  {
   "cell_type": "markdown",
   "id": "bcd1eafb",
   "metadata": {},
   "source": [
    "Create a list of length 10 of your choice containing multiple types of data. Using for loop print the\n",
    "element and its data type.\n"
   ]
  },
  {
   "cell_type": "code",
   "execution_count": 11,
   "id": "c7437b17",
   "metadata": {},
   "outputs": [],
   "source": [
    "list1=[\"PWskills\",1,2,3,[1, 2, 3],10.23,(1, 2, 3),1+2j,True,False]"
   ]
  },
  {
   "cell_type": "code",
   "execution_count": 12,
   "id": "9b82e0a4",
   "metadata": {},
   "outputs": [
    {
     "name": "stdout",
     "output_type": "stream",
     "text": [
      "PWskills\n",
      "1\n",
      "2\n",
      "3\n",
      "[1, 2, 3]\n",
      "10.23\n",
      "(1, 2, 3)\n",
      "(1+2j)\n",
      "True\n",
      "False\n",
      "All 10  elements Printed\n"
     ]
    }
   ],
   "source": [
    "c=0\n",
    "for i in range(0,len(list1)):\n",
    "    a=list1[i]\n",
    "    print(a)\n",
    "    c=c+1\n",
    "else:\n",
    "    print(\"All\",c,\" elements Printed\")"
   ]
  },
  {
   "cell_type": "markdown",
   "id": "b2f67096",
   "metadata": {},
   "source": [
    "Using a while loop, verify if the number A is purely divisible by number B and if so then how many\n",
    "times it can be divisible."
   ]
  },
  {
   "cell_type": "code",
   "execution_count": 27,
   "id": "894c255c",
   "metadata": {},
   "outputs": [
    {
     "name": "stdout",
     "output_type": "stream",
     "text": [
      "Yes A is Divisble by B 20 times\n"
     ]
    }
   ],
   "source": [
    "A=100\n",
    "B=5\n",
    "while(A>=B):\n",
    "    if(A%B==0):\n",
    "        A=A//B\n",
    "    else:\n",
    "        print(\"A is not Divisble by B\")\n",
    "        break\n",
    "    \n",
    "else:\n",
    "    A=100\n",
    "    B=5\n",
    "    C=A//B\n",
    "    print(\"Yes A is Divisble by B\",C,\"times\")\n"
   ]
  },
  {
   "cell_type": "markdown",
   "id": "fb022d2f",
   "metadata": {},
   "source": [
    "Create a list containing 25 int type data. Using for loop and if-else condition print if the element is\n",
    "divisible by 3 or not."
   ]
  },
  {
   "cell_type": "code",
   "execution_count": 31,
   "id": "af473026",
   "metadata": {},
   "outputs": [
    {
     "name": "stdout",
     "output_type": "stream",
     "text": [
      "[0, 1, 2, 3, 4, 5, 6, 7, 8, 9, 10, 11, 12, 13, 14, 15, 16, 17, 18, 19, 20, 21, 22, 23, 24]\n"
     ]
    }
   ],
   "source": [
    "List2=list(range(25))\n",
    "print(List2)"
   ]
  },
  {
   "cell_type": "code",
   "execution_count": 32,
   "id": "00c2c5e3",
   "metadata": {},
   "outputs": [
    {
     "name": "stdout",
     "output_type": "stream",
     "text": [
      "0 is divisble by 3\n",
      "1 is not divisble by 3\n",
      "2 is not divisble by 3\n",
      "3 is divisble by 3\n",
      "4 is not divisble by 3\n",
      "5 is not divisble by 3\n",
      "6 is divisble by 3\n",
      "7 is not divisble by 3\n",
      "8 is not divisble by 3\n",
      "9 is divisble by 3\n",
      "10 is not divisble by 3\n",
      "11 is not divisble by 3\n",
      "12 is divisble by 3\n",
      "13 is not divisble by 3\n",
      "14 is not divisble by 3\n",
      "15 is divisble by 3\n",
      "16 is not divisble by 3\n",
      "17 is not divisble by 3\n",
      "18 is divisble by 3\n",
      "19 is not divisble by 3\n",
      "20 is not divisble by 3\n",
      "21 is divisble by 3\n",
      "22 is not divisble by 3\n",
      "23 is not divisble by 3\n",
      "24 is divisble by 3\n"
     ]
    }
   ],
   "source": [
    "for i in List2:\n",
    "    if(i%3==0):\n",
    "        print(i ,\"is divisble by 3\")\n",
    "    else:\n",
    "        print(i ,\"is not divisble by 3\")"
   ]
  },
  {
   "cell_type": "markdown",
   "id": "155b5411",
   "metadata": {},
   "source": [
    "What do you understand about mutable and immutable data types? Give examples for both showing\n",
    "this property."
   ]
  },
  {
   "cell_type": "code",
   "execution_count": 38,
   "id": "36677037",
   "metadata": {},
   "outputs": [
    {
     "name": "stdout",
     "output_type": "stream",
     "text": [
      "[1, 2, 'test', (4+3j)]\n"
     ]
    },
    {
     "data": {
      "text/plain": [
       "'mutable data types are those which can be modified, means we can alter their elements check below example-'"
      ]
     },
     "execution_count": 38,
     "metadata": {},
     "output_type": "execute_result"
    }
   ],
   "source": [
    "list1=[1,2,\"test\",4+3j]\n",
    "print(list1)\n",
    "\"\"\"mutable data types are those which can be modified, means we can alter their elements check below example-\"\"\""
   ]
  },
  {
   "cell_type": "code",
   "execution_count": 39,
   "id": "40c2178e",
   "metadata": {},
   "outputs": [
    {
     "name": "stdout",
     "output_type": "stream",
     "text": [
      "[1, 2, 'test', 'complex number']\n"
     ]
    },
    {
     "data": {
      "text/plain": [
       "'Here you can see we have changed one of the element in the list 4+3j replaced by complex number'"
      ]
     },
     "execution_count": 39,
     "metadata": {},
     "output_type": "execute_result"
    }
   ],
   "source": [
    "list1[3]=\"complex number\"\n",
    "print(list1)\n",
    "\"\"\"Here you can see we have changed one of the element in the list 4+3j replaced by complex number\"\"\""
   ]
  },
  {
   "cell_type": "code",
   "execution_count": 41,
   "id": "da10ee40",
   "metadata": {},
   "outputs": [
    {
     "data": {
      "text/plain": [
       "'Immutable data types are those which can be altered, means we can not modify or change their elements check below example-'"
      ]
     },
     "execution_count": 41,
     "metadata": {},
     "output_type": "execute_result"
    }
   ],
   "source": [
    "str1=\"PWskills\"\n",
    "\"\"\"Immutable data types are those which can be altered, means we can not modify or change their elements check below example-\"\"\""
   ]
  },
  {
   "cell_type": "code",
   "execution_count": 42,
   "id": "a3590ac9",
   "metadata": {},
   "outputs": [
    {
     "ename": "TypeError",
     "evalue": "'str' object does not support item assignment",
     "output_type": "error",
     "traceback": [
      "\u001b[1;31m---------------------------------------------------------------------------\u001b[0m",
      "\u001b[1;31mTypeError\u001b[0m                                 Traceback (most recent call last)",
      "Cell \u001b[1;32mIn[42], line 1\u001b[0m\n\u001b[1;32m----> 1\u001b[0m str1[\u001b[38;5;241m0\u001b[39m]\u001b[38;5;241m=\u001b[39m\u001b[38;5;124m\"\u001b[39m\u001b[38;5;124mC\u001b[39m\u001b[38;5;124m\"\u001b[39m\n",
      "\u001b[1;31mTypeError\u001b[0m: 'str' object does not support item assignment"
     ]
    }
   ],
   "source": [
    "str1[0]=\"C\""
   ]
  },
  {
   "cell_type": "code",
   "execution_count": 43,
   "id": "78d7a7a6",
   "metadata": {},
   "outputs": [
    {
     "data": {
      "text/plain": [
       "'We tried to change the value in str1, we wanted to replace P with C in PWskills string defined but it threw an error'"
      ]
     },
     "execution_count": 43,
     "metadata": {},
     "output_type": "execute_result"
    }
   ],
   "source": [
    "\"\"\"We tried to change the value in str1, we wanted to replace P with C in PWskills string defined but it threw an error\"\"\""
   ]
  },
  {
   "cell_type": "code",
   "execution_count": null,
   "id": "3b062ad9",
   "metadata": {},
   "outputs": [],
   "source": []
  }
 ],
 "metadata": {
  "kernelspec": {
   "display_name": "Python 3 (ipykernel)",
   "language": "python",
   "name": "python3"
  },
  "language_info": {
   "codemirror_mode": {
    "name": "ipython",
    "version": 3
   },
   "file_extension": ".py",
   "mimetype": "text/x-python",
   "name": "python",
   "nbconvert_exporter": "python",
   "pygments_lexer": "ipython3",
   "version": "3.10.9"
  }
 },
 "nbformat": 4,
 "nbformat_minor": 5
}
